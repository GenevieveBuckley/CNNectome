{
 "cells": [
  {
   "cell_type": "code",
   "execution_count": null,
   "metadata": {},
   "outputs": [],
   "source": [
    "import nyroglancer\n",
    "import h5py\n",
    "import numpy as np\n",
    "import scipy.ndimage\n",
    "\n",
    "segment = False\n",
    "\n",
    "#raw = h5py.File('/nrs/saalfeld/heinrichl/autocontext/allh5_pluspad/processed/400000/tstvol-520-2-h5.hdf')['volumes/raw']\n",
    "#aff = h5py.File('/nrs/saalfeld/heinrichl/autocontext/allh5_pluspad/processed/400000/tstvol-520-2-h5.hdf')['volumes/predicted_affs']\n",
    "\n",
    "#raw = h5py.File('/groups/turaga/turagalab/data/FlyEM/fibsem_medulla_7col/trvol-250-2-h5/im_uint8.h5')['main']\n",
    "#mask = h5py.File('/groups/turaga/turagalab/data/FlyEM/fibsem_medulla_7col/trvol-250-2-h5/groundtruth_mask.h5')['main']\n",
    "\n",
    "#print(seg.dtype)\n",
    "#seg = np.array(seg).astype(np.uint32)\n",
    "#raw = ((np.array(raw)+1)/2.).astype(np.float32)\n",
    "#aff = np.array(aff).astype(np.float32)\n",
    "batchfile = '/nrs/saalfeld/heinrichl/synapses/cremi_all_0111_01/snapshots/batch_190001.0.hdf'\n",
    "raw = np.array(h5py.File(batchfile, 'r')['volumes/raw'])+1/2.\n",
    "gt_syn = np.array(h5py.File(batchfile, 'r')['volumes/labels/gt_clefts'])\n",
    "print(np.sum(gt_syn))\n",
    "gt_syn_dist = np.array(h5py.File(batchfile, 'r')['volumes/labels/gt_clefts_dist'])\n",
    "print(np.std(gt_syn))\n",
    "pred_syn_dist = np.array(h5py.File(batchfile, 'r')['volumes/labels/pred_clefts_dist'])\n",
    "#gt_labels = np.array(h5py.File(batchfile, 'r')['volumes/labels/neuron_ids']).astype('uint32')\n",
    "#pred_bdy_dist = np.array(h5py.File(batchfile, 'r')['volumes/labels/pred_bdy_dist'])\n",
    "#offset = \n",
    "#print(dist.min())\n",
    "mindist = pred_syn_dist.min()\n",
    "maxdist = pred_syn_dist.max()\n",
    "print(maxdist)\n",
    "print(mindist)\n",
    "#dist = (dist-mindist)/(maxdist-mindist)\n",
    "#preddist = (preddist-mindist)/(maxdist-mindist)\n",
    "dist_shader = \"\"\"\n",
    "void main() {\n",
    "emitRGB(colormapJet(toNormalized(getDataValue())));\n",
    "}\"\"\"\n",
    "#offset =((196-92)/2, (196-92)/2, (196-92)/2) #fib\n",
    "offset= ((268-56)/2, (268-56)/2, (84-56)/2)\n",
    "#print(dist.dtype, dist.shape, raw.dtype, raw.shape)\n",
    "viewer = nyroglancer.Hdf5Viewer()\n",
    "print(h5py.File(batchfile, 'r')['volumes/labels/pred_clefts_dist'].attrs['offset'])\n",
    "viewer.add(raw, name='raw')\n",
    "viewer.add(gt_syn, name='gt_syn', offset=offset)\n",
    "viewer.add(gt_syn_dist, name='gt_syn_dist', offset=offset, shader=dist_shader)\n",
    "viewer.add((pred_syn_dist), name='pred_syn_dist', offset=offset, shader=dist_shader)\n",
    "#viewer.add(gt_labels, name='gt_label', offset=offset)\n",
    "#viewer.add(pred_bdy_dist, name='pred_bdy_dist', offset=offset, shader=dist_shader)\n",
    "\n",
    "#print(h5py.File(batchfile, 'r')['volumes/labels'].keys())\n",
    "#print(h5py.File(batchfile, 'r')['volumes/labels/distances'].dtype)\n",
    "if segment:\n",
    "    thr= 0.3\n",
    "    \n",
    "    binary = np.where(preddist>thr, 1,0).squeeze()\n",
    "    \n",
    "    structuring_element = [[[0,0,0],[0,1,0],[0,0,0]],[[0, 1, 0], [1,1,1], [0,1,0]],[[0,0,0],[0,1,0],[0,0,0]]]\n",
    "    label, numel = scipy.ndimage.label(binary, structuring_element)\n",
    "    label = np.expand_dims(label,0).astype('uint32')\n",
    "    print(numel)\n",
    "    viewer.add(label, name='pred_label', offset=((196-92)/2, (196-92)/2, (196-92)/2))\n",
    "#print(label.dtype)\n",
    "#viewer.add(aff, name='affinities')\n",
    "#viewer.add(seg, name=\"neuron IDs\")\n",
    "#viewer.add(mask, name='mask')\n",
    "viewer.set_large()\n",
    "viewer.set_hostname('localhost:8888') # change this to host:port of your jupyter instance\n",
    "viewer.show()\n"
   ]
  },
  {
   "cell_type": "markdown",
   "metadata": {
    "collapsed": true
   },
   "source": [
    "####    ###                            ######        ### import nyroglancer"
   ]
  },
  {
   "cell_type": "code",
   "execution_count": 2314,
   "metadata": {},
   "outputs": [
    {
     "name": "stdout",
     "output_type": "stream",
     "text": [
      "/groups/saalfeld/home/heinrichl/Brew/anaconda2/envs/jupyter/lib/python2.7/site-packages/nyroglancer-1.0.3-py2.7.egg/nyroglancer/__init__.pyc\n"
     ]
    }
   ],
   "source": [
    "            print(nyroglancer.__file__)"
   ]
  },
  {
   "cell_type": "code",
   "execution_count": null,
   "metadata": {
    "collapsed": true
   },
   "outputs": [],
   "source": []
  }
 ],
 "metadata": {
  "anaconda-cloud": {},
  "kernelspec": {
   "display_name": "Python 2",
   "language": "python",
   "name": "python2"
  },
  "language_info": {
   "codemirror_mode": {
    "name": "ipython",
    "version": 2
   },
   "file_extension": ".py",
   "mimetype": "text/x-python",
   "name": "python",
   "nbconvert_exporter": "python",
   "pygments_lexer": "ipython2",
   "version": "2.7.13"
  }
 },
 "nbformat": 4,
 "nbformat_minor": 1
}
